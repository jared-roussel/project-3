{
 "cells": [
  {
   "cell_type": "code",
   "execution_count": 1,
   "id": "600b97b1",
   "metadata": {},
   "outputs": [],
   "source": [
    "import pandas as pd"
   ]
  },
  {
   "cell_type": "code",
   "execution_count": 2,
   "id": "f5bd451b",
   "metadata": {},
   "outputs": [],
   "source": [
    "data_path_one = 'Resources/superbowl.csv'\n",
    "data_path_two = 'Resources/Fortune_500_Corporate_Headquarters.csv'"
   ]
  },
  {
   "cell_type": "code",
   "execution_count": 5,
   "id": "1e9dfc4d",
   "metadata": {},
   "outputs": [
    {
     "data": {
      "text/html": [
       "<div>\n",
       "<style scoped>\n",
       "    .dataframe tbody tr th:only-of-type {\n",
       "        vertical-align: middle;\n",
       "    }\n",
       "\n",
       "    .dataframe tbody tr th {\n",
       "        vertical-align: top;\n",
       "    }\n",
       "\n",
       "    .dataframe thead th {\n",
       "        text-align: right;\n",
       "    }\n",
       "</style>\n",
       "<table border=\"1\" class=\"dataframe\">\n",
       "  <thead>\n",
       "    <tr style=\"text-align: right;\">\n",
       "      <th></th>\n",
       "      <th>Date</th>\n",
       "      <th>SB</th>\n",
       "      <th>Winner</th>\n",
       "      <th>Winner Pts</th>\n",
       "      <th>Loser</th>\n",
       "      <th>Loser Pts</th>\n",
       "      <th>MVP</th>\n",
       "      <th>Stadium</th>\n",
       "      <th>City</th>\n",
       "      <th>State</th>\n",
       "    </tr>\n",
       "  </thead>\n",
       "  <tbody>\n",
       "    <tr>\n",
       "      <th>0</th>\n",
       "      <td>Feb 2 2020</td>\n",
       "      <td>LIV (54)</td>\n",
       "      <td>Kansas City Chiefs</td>\n",
       "      <td>31</td>\n",
       "      <td>San Francisco 49ers</td>\n",
       "      <td>20</td>\n",
       "      <td>Patrick Mahomes</td>\n",
       "      <td>Hard Rock Stadium</td>\n",
       "      <td>Miami Gardens</td>\n",
       "      <td>Florida</td>\n",
       "    </tr>\n",
       "    <tr>\n",
       "      <th>1</th>\n",
       "      <td>Feb 3 2019</td>\n",
       "      <td>LIII (53)</td>\n",
       "      <td>New England Patriots</td>\n",
       "      <td>13</td>\n",
       "      <td>Los Angeles Rams</td>\n",
       "      <td>3</td>\n",
       "      <td>Julian Edelman</td>\n",
       "      <td>Mercedes-Benz Stadium</td>\n",
       "      <td>Atlanta</td>\n",
       "      <td>Georgia</td>\n",
       "    </tr>\n",
       "    <tr>\n",
       "      <th>2</th>\n",
       "      <td>Feb 4 2018</td>\n",
       "      <td>LII (52)</td>\n",
       "      <td>Philadelphia Eagles</td>\n",
       "      <td>41</td>\n",
       "      <td>New England Patriots</td>\n",
       "      <td>33</td>\n",
       "      <td>Nick Foles</td>\n",
       "      <td>U.S. Bank Stadium</td>\n",
       "      <td>Minneapolis</td>\n",
       "      <td>Minnesota</td>\n",
       "    </tr>\n",
       "    <tr>\n",
       "      <th>3</th>\n",
       "      <td>Feb 5 2017</td>\n",
       "      <td>LI (51)</td>\n",
       "      <td>New England Patriots</td>\n",
       "      <td>34</td>\n",
       "      <td>Atlanta Falcons</td>\n",
       "      <td>28</td>\n",
       "      <td>Tom Brady</td>\n",
       "      <td>NRG Stadium</td>\n",
       "      <td>Houston</td>\n",
       "      <td>Texas</td>\n",
       "    </tr>\n",
       "    <tr>\n",
       "      <th>4</th>\n",
       "      <td>Feb 7 2016</td>\n",
       "      <td>50</td>\n",
       "      <td>Denver Broncos</td>\n",
       "      <td>24</td>\n",
       "      <td>Carolina Panthers</td>\n",
       "      <td>10</td>\n",
       "      <td>Von Miller</td>\n",
       "      <td>Levi's Stadium</td>\n",
       "      <td>Santa Clara</td>\n",
       "      <td>California</td>\n",
       "    </tr>\n",
       "  </tbody>\n",
       "</table>\n",
       "</div>"
      ],
      "text/plain": [
       "         Date         SB                Winner  Winner Pts  \\\n",
       "0  Feb 2 2020   LIV (54)    Kansas City Chiefs          31   \n",
       "1  Feb 3 2019  LIII (53)  New England Patriots          13   \n",
       "2  Feb 4 2018   LII (52)   Philadelphia Eagles          41   \n",
       "3  Feb 5 2017    LI (51)  New England Patriots          34   \n",
       "4  Feb 7 2016         50        Denver Broncos          24   \n",
       "\n",
       "                  Loser  Loser Pts              MVP                Stadium  \\\n",
       "0   San Francisco 49ers         20  Patrick Mahomes      Hard Rock Stadium   \n",
       "1      Los Angeles Rams          3   Julian Edelman  Mercedes-Benz Stadium   \n",
       "2  New England Patriots         33       Nick Foles      U.S. Bank Stadium   \n",
       "3       Atlanta Falcons         28        Tom Brady            NRG Stadium   \n",
       "4     Carolina Panthers         10       Von Miller         Levi's Stadium   \n",
       "\n",
       "            City       State  \n",
       "0  Miami Gardens     Florida  \n",
       "1        Atlanta     Georgia  \n",
       "2    Minneapolis   Minnesota  \n",
       "3        Houston       Texas  \n",
       "4    Santa Clara  California  "
      ]
     },
     "execution_count": 5,
     "metadata": {},
     "output_type": "execute_result"
    }
   ],
   "source": [
    "data_one = pd.read_csv(data_path_one)\n",
    "data_one.head()"
   ]
  },
  {
   "cell_type": "code",
   "execution_count": 6,
   "id": "484379d8",
   "metadata": {},
   "outputs": [],
   "source": [
    "data_two = pd.read_csv(data_path_two)"
   ]
  },
  {
   "cell_type": "code",
   "execution_count": null,
   "id": "7ce8aeb3",
   "metadata": {},
   "outputs": [],
   "source": []
  }
 ],
 "metadata": {
  "kernelspec": {
   "display_name": "Python [conda env:root] *",
   "language": "python",
   "name": "conda-root-py"
  },
  "language_info": {
   "codemirror_mode": {
    "name": "ipython",
    "version": 3
   },
   "file_extension": ".py",
   "mimetype": "text/x-python",
   "name": "python",
   "nbconvert_exporter": "python",
   "pygments_lexer": "ipython3",
   "version": "3.8.8"
  }
 },
 "nbformat": 4,
 "nbformat_minor": 5
}
