{
 "cells": [
  {
   "cell_type": "code",
   "execution_count": 3,
   "source": [
    "#Import dependencies\r\n",
    "import pandas as pd\r\n",
    "import requests\r\n",
    "import json\r\n",
    "from config import cost_api_key\r\n",
    "#api_url = "
   ],
   "outputs": [],
   "metadata": {}
  },
  {
   "cell_type": "code",
   "execution_count": null,
   "source": [
    "#Scrape wikipedia page for top 150 US cities by population\r\n"
   ],
   "outputs": [],
   "metadata": {}
  },
  {
   "cell_type": "code",
   "execution_count": null,
   "source": [
    "api_url = \"https://cities-cost-of-living1.p.rapidapi.com/get_cities_details\"\r\n",
    "\r\n",
    "data = [{}]\r\n",
    "\r\n",
    "payload = \"cities=%5B%7B%22name%22%3A%22Lisbon%22%2C%22country%22%3A%22Portugal%22%7D%2C%7B%22name%22%3A%22Paris%22%2C%22country%22%3A%22Spain%20(wrong%20country)%22%7D%2C%7B%22name%22%3A%22Hamilton%22%2C%22country%22%3A%22Bermuda%22%7D%2C%7B%22name%22%3A%22Saint%20Francisc%20(wrong%20city%20name)%22%2C%22country%22%3A%22United%20States%22%7D%5D&currencies=%5B%22Euro%20(wrong%20currency%20code)%22%2C%22USD%22%2C%22CHF%22%5D\"\r\n",
    "headers = {\r\n",
    "    'content-type': \"application/x-www-form-urlencoded\",\r\n",
    "    'x-rapidapi-host': \"cities-cost-of-living1.p.rapidapi.com\",\r\n",
    "    'x-rapidapi-key': cost_api_key\r\n",
    "    }\r\n",
    "\r\n",
    "response = requests.request(\"POST\", api_url, data=payload, headers=headers)\r\n",
    "\r\n",
    "print(response.text)\r\n",
    "\r\n",
    "[{\"name\":\"Lisbon\",\"country\":\"Portugal\"},{\"name\":\"Paris\",\"country\":\"Spain (wrong country)\"},{\"name\":\"Hamilton\",\"country\":\"Bermuda\"},{\"name\":\"Saint Francisc (wrong city name)\",\"country\":\"United States\"}]"
   ],
   "outputs": [],
   "metadata": {}
  }
 ],
 "metadata": {
  "kernelspec": {
   "name": "python3",
   "display_name": "Python 3.6.10 64-bit ('PythonData': conda)"
  },
  "language_info": {
   "codemirror_mode": {
    "name": "ipython",
    "version": 3
   },
   "file_extension": ".py",
   "mimetype": "text/x-python",
   "name": "python",
   "nbconvert_exporter": "python",
   "pygments_lexer": "ipython3",
   "version": "3.6.10"
  },
  "interpreter": {
   "hash": "3b72f3de93deed7a8b5a21e53995b8ecc1da046e40fa35b903f207e908c15ba5"
  }
 },
 "nbformat": 4,
 "nbformat_minor": 5
}