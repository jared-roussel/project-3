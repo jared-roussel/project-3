{
 "cells": [
  {
   "cell_type": "code",
   "execution_count": 37,
   "source": [
    "#Import dependencies\r\n",
    "import pandas as pd\r\n",
    "import requests\r\n",
    "import json\r\n",
    "from config import cost_api_key\r\n",
    "import os\r\n",
    "import html5lib as html\r\n",
    "from webdriver_manager.chrome import ChromeDriverManager\r\n",
    "#from webdriver_manager.chrome import ChromeDriverWait\r\n",
    "import pandas as pd\r\n",
    "from splinter import Browser\r\n"
   ],
   "outputs": [],
   "metadata": {}
  },
  {
   "cell_type": "code",
   "execution_count": 25,
   "source": [
    "#Scrape wikipedia page for top 150 US cities by population\r\n",
    "#html_template = os.path.join (\"Resources\",\"List_of_United_States_cities_by_population.html\")\r\n",
    "#html_template"
   ],
   "outputs": [
    {
     "output_type": "execute_result",
     "data": {
      "text/plain": [
       "'Resources\\\\List_of_United_States_cities_by_population.html'"
      ]
     },
     "metadata": {},
     "execution_count": 25
    }
   ],
   "metadata": {}
  },
  {
   "cell_type": "code",
   "execution_count": 26,
   "source": [
    "executable_path = {'executable_path': ChromeDriverManager().install()}\r\n",
    "browser = Browser('chrome', **executable_path, headless=False)\r\n",
    "#browser.implicit_wait(30)"
   ],
   "outputs": [
    {
     "output_type": "stream",
     "name": "stderr",
     "text": [
      "\n",
      "\n",
      "====== WebDriver manager ======\n",
      "Current google-chrome version is 94.0.4606\n",
      "Get LATEST driver version for 94.0.4606\n",
      "Driver [C:\\Users\\12254\\.wdm\\drivers\\chromedriver\\win32\\94.0.4606.61\\chromedriver.exe] found in cache\n"
     ]
    }
   ],
   "metadata": {}
  },
  {
   "cell_type": "code",
   "execution_count": 38,
   "source": [
    "driver.get('https://en.wikipedia.org/wiki/List_of_United_States_cities_by_population')\r\n",
    "df = pd.read_html(driver.get_attribute('outerHTML'))[0]\r\n",
    "#html_table = pd.read_html(html_template)\r\n",
    "#html_table.head()"
   ],
   "outputs": [
    {
     "output_type": "error",
     "ename": "NameError",
     "evalue": "name 'driver' is not defined",
     "traceback": [
      "\u001b[1;31m---------------------------------------------------------------------------\u001b[0m",
      "\u001b[1;31mNameError\u001b[0m                                 Traceback (most recent call last)",
      "\u001b[1;32m<ipython-input-38-b248fe4f5f77>\u001b[0m in \u001b[0;36m<module>\u001b[1;34m\u001b[0m\n\u001b[1;32m----> 1\u001b[1;33m \u001b[0mdriver\u001b[0m\u001b[1;33m.\u001b[0m\u001b[0mget\u001b[0m\u001b[1;33m(\u001b[0m\u001b[1;34m'https://en.wikipedia.org/wiki/List_of_United_States_cities_by_population'\u001b[0m\u001b[1;33m)\u001b[0m\u001b[1;33m\u001b[0m\u001b[1;33m\u001b[0m\u001b[0m\n\u001b[0m\u001b[0;32m      2\u001b[0m \u001b[0mdf\u001b[0m \u001b[1;33m=\u001b[0m \u001b[0mpd\u001b[0m\u001b[1;33m.\u001b[0m\u001b[0mread_html\u001b[0m\u001b[1;33m(\u001b[0m\u001b[0mdriver\u001b[0m\u001b[1;33m.\u001b[0m\u001b[0mget_attribute\u001b[0m\u001b[1;33m(\u001b[0m\u001b[1;34m'outerHTML'\u001b[0m\u001b[1;33m)\u001b[0m\u001b[1;33m)\u001b[0m\u001b[1;33m[\u001b[0m\u001b[1;36m0\u001b[0m\u001b[1;33m]\u001b[0m\u001b[1;33m\u001b[0m\u001b[1;33m\u001b[0m\u001b[0m\n\u001b[0;32m      3\u001b[0m \u001b[1;31m#html_table = pd.read_html(html_template)\u001b[0m\u001b[1;33m\u001b[0m\u001b[1;33m\u001b[0m\u001b[1;33m\u001b[0m\u001b[0m\n\u001b[0;32m      4\u001b[0m \u001b[1;31m#html_table.head()\u001b[0m\u001b[1;33m\u001b[0m\u001b[1;33m\u001b[0m\u001b[1;33m\u001b[0m\u001b[0m\n",
      "\u001b[1;31mNameError\u001b[0m: name 'driver' is not defined"
     ]
    }
   ],
   "metadata": {}
  },
  {
   "cell_type": "code",
   "execution_count": 39,
   "source": [
    "data = []\r\n",
    "city_list1 = df['column'].to_list()\r\n",
    "for city in city_list1:\r\n",
    "    data.append({\"name\":city,\"country\":\"United States\"})\r\n",
    "\r\n",
    "\r\n",
    "#[{\"name\":\"Lisbon\",\"country\":\"Portugal\"},{\"name\":\"Paris\",\"country\":\"Spain (wrong country)\"},{\"name\":\"Hamilton\",\"country\":\"Bermuda\"},{\"name\":\"Saint Francisc (wrong city name)\",\"country\":\"United States\"}]"
   ],
   "outputs": [
    {
     "output_type": "error",
     "ename": "NameError",
     "evalue": "name 'df' is not defined",
     "traceback": [
      "\u001b[1;31m---------------------------------------------------------------------------\u001b[0m",
      "\u001b[1;31mNameError\u001b[0m                                 Traceback (most recent call last)",
      "\u001b[1;32m<ipython-input-39-c0a241236d53>\u001b[0m in \u001b[0;36m<module>\u001b[1;34m\u001b[0m\n\u001b[0;32m      1\u001b[0m \u001b[0mdata\u001b[0m \u001b[1;33m=\u001b[0m \u001b[1;33m[\u001b[0m\u001b[1;33m]\u001b[0m\u001b[1;33m\u001b[0m\u001b[1;33m\u001b[0m\u001b[0m\n\u001b[1;32m----> 2\u001b[1;33m \u001b[0mcity_list1\u001b[0m \u001b[1;33m=\u001b[0m \u001b[0mdf\u001b[0m\u001b[1;33m[\u001b[0m\u001b[1;34m'column'\u001b[0m\u001b[1;33m]\u001b[0m\u001b[1;33m.\u001b[0m\u001b[0mto_list\u001b[0m\u001b[1;33m(\u001b[0m\u001b[1;33m)\u001b[0m\u001b[1;33m\u001b[0m\u001b[1;33m\u001b[0m\u001b[0m\n\u001b[0m\u001b[0;32m      3\u001b[0m \u001b[1;32mfor\u001b[0m \u001b[0mcity\u001b[0m \u001b[1;32min\u001b[0m \u001b[0mcity_list1\u001b[0m\u001b[1;33m:\u001b[0m\u001b[1;33m\u001b[0m\u001b[1;33m\u001b[0m\u001b[0m\n\u001b[0;32m      4\u001b[0m     \u001b[0mdata\u001b[0m\u001b[1;33m.\u001b[0m\u001b[0mappend\u001b[0m\u001b[1;33m(\u001b[0m\u001b[1;33m{\u001b[0m\u001b[1;34m\"name\"\u001b[0m\u001b[1;33m:\u001b[0m\u001b[0mcity\u001b[0m\u001b[1;33m,\u001b[0m\u001b[1;34m\"country\"\u001b[0m\u001b[1;33m:\u001b[0m\u001b[1;34m\"United States\"\u001b[0m\u001b[1;33m}\u001b[0m\u001b[1;33m)\u001b[0m\u001b[1;33m\u001b[0m\u001b[1;33m\u001b[0m\u001b[0m\n\u001b[0;32m      5\u001b[0m \u001b[1;33m\u001b[0m\u001b[0m\n",
      "\u001b[1;31mNameError\u001b[0m: name 'df' is not defined"
     ]
    }
   ],
   "metadata": {}
  },
  {
   "cell_type": "code",
   "execution_count": null,
   "source": [
    "payload_json = json.dumps(data)\r\n",
    "print(payload_json)"
   ],
   "outputs": [],
   "metadata": {}
  },
  {
   "cell_type": "code",
   "execution_count": null,
   "source": [
    "api_url = \"https://cities-cost-of-living1.p.rapidapi.com/get_cities_details\"\r\n",
    "#payload = \"cities=%5B%7B%22name%22%3A%22Lisbon%22%2C%22country%22%3A%22Portugal%22%7D%2C%7B%22name%22%3A%22Paris%22%2C%22country%22%3A%22Spain%20(wrong%20country)%22%7D%2C%7B%22name%22%3A%22Hamilton%22%2C%22country%22%3A%22Bermuda%22%7D%2C%7B%22name%22%3A%22Saint%20Francisc%20(wrong%20city%20name)%22%2C%22country%22%3A%22United%20States%22%7D%5D&currencies=%5B%22Euro%20(wrong%20currency%20code)%22%2C%22USD%22%2C%22CHF%22%5D\"\r\n",
    "headers = {\r\n",
    "    'content-type': \"application/x-www-form-urlencoded\",\r\n",
    "    'x-rapidapi-host': \"cities-cost-of-living1.p.rapidapi.com\",\r\n",
    "    'x-rapidapi-key': cost_api_key\r\n",
    "    }\r\n",
    "try:\r\n",
    "    response = requests.request(\"POST\", api_url, data=payload_json, headers=headers)\r\n",
    "    #print(response.text)\r\n",
    "except:\r\n",
    "    print(f'API call failed.')\r\n",
    "\r\n"
   ],
   "outputs": [],
   "metadata": {}
  },
  {
   "cell_type": "code",
   "execution_count": null,
   "source": [
    "#city_list2 = []\r\n",
    "#cost_of_living_index= []\r\n",
    "#purchasing_power = []\r\n",
    "#item = []\r\n",
    "#value = []\r\n",
    "all_cities_data = []\r\n",
    "\r\n",
    "\r\n",
    "i = 0\r\n",
    "while i < len(response):\r\n",
    "    city = data[i][\"name\"]\r\n",
    "    cost_of_living_index = data[i][\"cost_of_living_index\"]\r\n",
    "    purchasing_power = data[i][\"local_purchasing_power_index\"]\r\n",
    "    #item = data[i][\"cost_of_living_details\"][\"details\"][\"item\"]\r\n",
    "    #value = data[i][\"cost_of_living_details\"][\"details\"][\"value\"]\r\n",
    "\r\n",
    "\r\n",
    "    all_cities_data.append({\"City\": city,\r\n",
    "                             \"Cost of Living Index\": cost_of_living_index,\r\n",
    "                             \"Local Purchasing Power\": purchasing_power)\r\n",
    "\r\n",
    "\r\n"
   ],
   "outputs": [],
   "metadata": {}
  }
 ],
 "metadata": {
  "kernelspec": {
   "name": "python3",
   "display_name": "Python 3.6.10 64-bit ('PythonData': conda)"
  },
  "language_info": {
   "codemirror_mode": {
    "name": "ipython",
    "version": 3
   },
   "file_extension": ".py",
   "mimetype": "text/x-python",
   "name": "python",
   "nbconvert_exporter": "python",
   "pygments_lexer": "ipython3",
   "version": "3.6.10"
  },
  "interpreter": {
   "hash": "3b72f3de93deed7a8b5a21e53995b8ecc1da046e40fa35b903f207e908c15ba5"
  }
 },
 "nbformat": 4,
 "nbformat_minor": 5
}